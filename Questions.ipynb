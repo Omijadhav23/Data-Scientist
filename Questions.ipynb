{
  "nbformat": 4,
  "nbformat_minor": 0,
  "metadata": {
    "colab": {
      "name": "Questions.ipynb",
      "provenance": [],
      "collapsed_sections": [
        "h2mTUh2ZP18z",
        "keURGUjgQPz9",
        "rRD8lyKKSBdU",
        "HJishR_OSy56",
        "0MQS9VzOTRuL"
      ],
      "toc_visible": true,
      "authorship_tag": "ABX9TyMrmRrdWXNW/URW1JpIWBcl",
      "include_colab_link": true
    },
    "kernelspec": {
      "name": "python3",
      "display_name": "Python 3"
    },
    "language_info": {
      "name": "python"
    }
  },
  "cells": [
    {
      "cell_type": "markdown",
      "metadata": {
        "id": "view-in-github",
        "colab_type": "text"
      },
      "source": [
        "<a href=\"https://colab.research.google.com/github/Omijadhav23/Data-Scientist/blob/main/Questions.ipynb\" target=\"_parent\"><img src=\"https://colab.research.google.com/assets/colab-badge.svg\" alt=\"Open In Colab\"/></a>"
      ]
    },
    {
      "cell_type": "markdown",
      "source": [
        "# Questions on while loop "
      ],
      "metadata": {
        "id": "paqTJ84UMyaV"
      }
    },
    {
      "cell_type": "markdown",
      "source": [
        "##Q1.Write a program to print the following using while loop\n",
        " a. First 10 Even numbers\n",
        " b. First 10 Odd numbers\n",
        " c. First 10 Natural numbers\n",
        " d. First 10 Whole numbers"
      ],
      "metadata": {
        "id": "h2mTUh2ZP18z"
      }
    },
    {
      "cell_type": "code",
      "source": [
        "\n",
        "\n",
        "num=2\n",
        "print(\"First 10 even numbers are :\")\n",
        "while num<=20:\n",
        "  print(num)\n",
        "  num=num+2\n",
        "\n",
        "numb=1\n",
        "print(\"First 10 odd numbers are: \")\n",
        "while numb <= 20:\n",
        "  print(numb)\n",
        "  numb=numb+2\n",
        "\n",
        "nu=1\n",
        "print(\"First 10 natural numbers are: \")\n",
        "while nu<=10:\n",
        "  print(nu)\n",
        "  nu=nu+1\n",
        "\n",
        "n=0\n",
        "print(\"First 10 whole numbers are : \")\n",
        "while n<10:\n",
        "  print(n)\n",
        "  n+=1"
      ],
      "metadata": {
        "colab": {
          "base_uri": "https://localhost:8080/"
        },
        "id": "F70M78LrM1sd",
        "outputId": "20ccce37-b722-47ec-8897-f1edc836c61c"
      },
      "execution_count": null,
      "outputs": [
        {
          "output_type": "stream",
          "name": "stdout",
          "text": [
            "First 10 even numbers are :\n",
            "2\n",
            "4\n",
            "6\n",
            "8\n",
            "10\n",
            "12\n",
            "14\n",
            "16\n",
            "18\n",
            "20\n",
            "First 10 odd numbers are: \n",
            "1\n",
            "3\n",
            "5\n",
            "7\n",
            "9\n",
            "11\n",
            "13\n",
            "15\n",
            "17\n",
            "19\n",
            "First 10 natural numbers are: \n",
            "1\n",
            "2\n",
            "3\n",
            "4\n",
            "5\n",
            "6\n",
            "7\n",
            "8\n",
            "9\n",
            "10\n",
            "First 10 whole numbers are : \n",
            "0\n",
            "1\n",
            "2\n",
            "3\n",
            "4\n",
            "5\n",
            "6\n",
            "7\n",
            "8\n",
            "9\n"
          ]
        }
      ]
    },
    {
      "cell_type": "markdown",
      "source": [
        ""
      ],
      "metadata": {
        "id": "2eixBXeuQOSF"
      }
    },
    {
      "cell_type": "markdown",
      "source": [
        "## Q2. Write a program to print first 10 integers and their squares using while loop.\n",
        "1 1\n",
        "\n",
        "2 4\n",
        "\n",
        "3 9 and so on"
      ],
      "metadata": {
        "id": "keURGUjgQPz9"
      }
    },
    {
      "cell_type": "code",
      "source": [
        "integer=0\n",
        "square=0\n",
        "print(\"First 10 integers and there squares are : \")\n",
        "while integer<10:\n",
        "  print(integer,square)\n",
        "  integer+=1\n",
        "  square=integer*integer\n"
      ],
      "metadata": {
        "colab": {
          "base_uri": "https://localhost:8080/"
        },
        "id": "GT_jaVkFQWYm",
        "outputId": "7da585cf-2d40-4568-aebb-66d435942dd0"
      },
      "execution_count": null,
      "outputs": [
        {
          "output_type": "stream",
          "name": "stdout",
          "text": [
            "First 10 integers and there squares are : \n",
            "0 0\n",
            "1 1\n",
            "2 4\n",
            "3 9\n",
            "4 16\n",
            "5 25\n",
            "6 36\n",
            "7 49\n",
            "8 64\n",
            "9 81\n"
          ]
        }
      ]
    },
    {
      "cell_type": "code",
      "source": [
        ""
      ],
      "metadata": {
        "id": "zYde17MYR-vy"
      },
      "execution_count": null,
      "outputs": []
    },
    {
      "cell_type": "markdown",
      "source": [
        "##Q3. Write a while loop statement to print the following series\n",
        "\n",
        "105, 98, 91 ………7."
      ],
      "metadata": {
        "id": "rRD8lyKKSBdU"
      }
    },
    {
      "cell_type": "code",
      "source": [
        "num=105\n",
        "while num>=7:\n",
        "  print(num)\n",
        "  num-=7"
      ],
      "metadata": {
        "colab": {
          "base_uri": "https://localhost:8080/"
        },
        "id": "cFRuwsfzSGWq",
        "outputId": "6524d2b9-cc3f-4b5b-d010-aa0f07705133"
      },
      "execution_count": null,
      "outputs": [
        {
          "output_type": "stream",
          "name": "stdout",
          "text": [
            "105\n",
            "98\n",
            "91\n",
            "84\n",
            "77\n",
            "70\n",
            "63\n",
            "56\n",
            "49\n",
            "42\n",
            "35\n",
            "28\n",
            "21\n",
            "14\n",
            "7\n"
          ]
        }
      ]
    },
    {
      "cell_type": "markdown",
      "source": [
        "##Q4. Write a program to print first 10 natural number in reverse order using while loop."
      ],
      "metadata": {
        "id": "HJishR_OSy56"
      }
    },
    {
      "cell_type": "code",
      "source": [
        "num=10\n",
        "print(\"First 10 natural numbers in reverse order: \")\n",
        "while num>=1:\n",
        "  print(num)\n",
        "  num-=1"
      ],
      "metadata": {
        "colab": {
          "base_uri": "https://localhost:8080/"
        },
        "id": "9Tx1GJIlS4HL",
        "outputId": "76afaea2-b4da-41a3-91cc-2f7f6eef3a28"
      },
      "execution_count": null,
      "outputs": [
        {
          "output_type": "stream",
          "name": "stdout",
          "text": [
            "First 10 natural numbers in reverse order: \n",
            "10\n",
            "9\n",
            "8\n",
            "7\n",
            "6\n",
            "5\n",
            "4\n",
            "3\n",
            "2\n",
            "1\n"
          ]
        }
      ]
    },
    {
      "cell_type": "markdown",
      "source": [
        "##Q5. Write a program to print sum of first 10 Natural numbers"
      ],
      "metadata": {
        "id": "0MQS9VzOTRuL"
      }
    },
    {
      "cell_type": "code",
      "source": [
        "num=10\n",
        "sum=0\n",
        "while num>=1:\n",
        "  sum=sum+num\n",
        "  num-=1\n",
        "print(sum)\n",
        "\n",
        "  "
      ],
      "metadata": {
        "colab": {
          "base_uri": "https://localhost:8080/"
        },
        "id": "6uNAT8fbTW6K",
        "outputId": "e6aab273-fc5c-4172-85db-2f7a9a754399"
      },
      "execution_count": null,
      "outputs": [
        {
          "output_type": "stream",
          "name": "stdout",
          "text": [
            "55\n"
          ]
        }
      ]
    },
    {
      "cell_type": "code",
      "source": [
        "num"
      ],
      "metadata": {
        "id": "-KqiGCa8U5T8"
      },
      "execution_count": null,
      "outputs": []
    },
    {
      "cell_type": "markdown",
      "source": [
        "##Q6. Write a program to print table of a number entered from the user."
      ],
      "metadata": {
        "id": "SOn-n6TWdMqq"
      }
    },
    {
      "cell_type": "code",
      "source": [
        "num=int(input(\"Enter a number: \"))\n",
        "inte=1\n",
        "while inte<=10:\n",
        "  print(num,\"*\",inte,\"=\",num*inte)\n",
        "  inte=inte+1"
      ],
      "metadata": {
        "colab": {
          "base_uri": "https://localhost:8080/"
        },
        "id": "IN3WF8R0dOTa",
        "outputId": "21ac1013-7237-43e1-e2e7-1f7b09614378"
      },
      "execution_count": null,
      "outputs": [
        {
          "output_type": "stream",
          "name": "stdout",
          "text": [
            "Enter a number: 5\n",
            "5 * 1 = 5\n",
            "5 * 2 = 10\n",
            "5 * 3 = 15\n",
            "5 * 4 = 20\n",
            "5 * 5 = 25\n",
            "5 * 6 = 30\n",
            "5 * 7 = 35\n",
            "5 * 8 = 40\n",
            "5 * 9 = 45\n",
            "5 * 10 = 50\n"
          ]
        }
      ]
    },
    {
      "cell_type": "code",
      "source": [
        ""
      ],
      "metadata": {
        "id": "lDUDLg77eGVF"
      },
      "execution_count": null,
      "outputs": []
    },
    {
      "cell_type": "markdown",
      "source": [
        "##Q7. Write a program to find the sum of all even numbers that falls between two numbers (exclusive both numbers) entered from the user using while loop."
      ],
      "metadata": {
        "id": "jmoA6BCmeHBb"
      }
    },
    {
      "cell_type": "code",
      "source": [
        "a=int(input(\"Enter the first number :\"))\n",
        "b=int(input(\"Enter the second number: \"))\n",
        "num=a\n",
        "sum=0\n",
        "while num<b :\n",
        "  sum=sum+num\n",
        "  num+=2\n",
        "  print(num)\n",
        "# print(sum)\n",
        "print(\"The sum of all even numbers are :\",sum+num)\n",
        "# print(num)\n"
      ],
      "metadata": {
        "colab": {
          "base_uri": "https://localhost:8080/"
        },
        "id": "jDxMebCBeITS",
        "outputId": "b9ba6569-15d4-4543-eeb4-99641aeaf13b"
      },
      "execution_count": null,
      "outputs": [
        {
          "output_type": "stream",
          "name": "stdout",
          "text": [
            "Enter the first number :2\n",
            "Enter the second number: 6\n",
            "4\n",
            "6\n",
            "The sum of all even numbers are : 12\n"
          ]
        }
      ]
    },
    {
      "cell_type": "markdown",
      "source": [
        "##Q8. Write a program to check whether a number is prime or not using while loop."
      ],
      "metadata": {
        "id": "dDTVRddhjQ1u"
      }
    },
    {
      "cell_type": "code",
      "source": [
        "num1 = int(input(\"Enter any number : \"))\n",
        "k=0\n",
        "if num1 == 0 or num1 == 1:\n",
        "    print(\"Not a prime number \")\n",
        "else:\n",
        "   i = 2\n",
        "   while(i<num1):\n",
        "     if num1 % i == 0:\n",
        "       k = k+1\n",
        "     i = i+1\n",
        "if k == 0 :\n",
        "        print( num1,\"is prime number\")\n",
        "else:\n",
        "        print(num1, \"is not prime number\")\n",
        "      #  else :\n",
        "  #    print(\"It is not a prime number\")\n",
        "  #    break\n",
        " \n"
      ],
      "metadata": {
        "colab": {
          "base_uri": "https://localhost:8080/"
        },
        "id": "6eYCF4B_jS_R",
        "outputId": "00008af5-90d3-461e-a7f9-6f55daf8118e"
      },
      "execution_count": null,
      "outputs": [
        {
          "output_type": "stream",
          "name": "stdout",
          "text": [
            "Enter any number : 13\n",
            "13 is prime number\n"
          ]
        }
      ]
    }
  ]
}